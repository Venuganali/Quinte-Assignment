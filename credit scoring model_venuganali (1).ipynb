{
 "cells": [
  {
   "cell_type": "code",
   "execution_count": 16,
   "id": "e17ef353",
   "metadata": {},
   "outputs": [
    {
     "name": "stdout",
     "output_type": "stream",
     "text": [
      "Requirement already satisfied: pandasql in c:\\new folder\\new folder\\lib\\site-packages (0.7.3)\n",
      "Requirement already satisfied: numpy in c:\\new folder\\new folder\\lib\\site-packages (from pandasql) (1.24.3)\n",
      "Requirement already satisfied: pandas in c:\\new folder\\new folder\\lib\\site-packages (from pandasql) (2.2.2)\n",
      "Requirement already satisfied: sqlalchemy in c:\\new folder\\new folder\\lib\\site-packages (from pandasql) (2.0.30)\n",
      "Requirement already satisfied: python-dateutil>=2.8.2 in c:\\new folder\\new folder\\lib\\site-packages (from pandas->pandasql) (2.8.2)\n",
      "Requirement already satisfied: pytz>=2020.1 in c:\\new folder\\new folder\\lib\\site-packages (from pandas->pandasql) (2023.3.post1)\n",
      "Requirement already satisfied: tzdata>=2022.7 in c:\\new folder\\new folder\\lib\\site-packages (from pandas->pandasql) (2023.3)\n",
      "Requirement already satisfied: typing-extensions>=4.6.0 in c:\\new folder\\new folder\\lib\\site-packages (from sqlalchemy->pandasql) (4.7.1)\n",
      "Requirement already satisfied: greenlet!=0.4.17 in c:\\new folder\\new folder\\lib\\site-packages (from sqlalchemy->pandasql) (2.0.1)\n",
      "Requirement already satisfied: six>=1.5 in c:\\new folder\\new folder\\lib\\site-packages (from python-dateutil>=2.8.2->pandas->pandasql) (1.16.0)\n"
     ]
    }
   ],
   "source": [
    "!pip install -U pandasql"
   ]
  },
  {
   "cell_type": "code",
   "execution_count": 11,
   "id": "2ff4a26c",
   "metadata": {},
   "outputs": [],
   "source": [
    "import pandas as pd"
   ]
  },
  {
   "cell_type": "code",
   "execution_count": 12,
   "id": "26420334",
   "metadata": {},
   "outputs": [],
   "source": [
    "import sqlite3"
   ]
  },
  {
   "cell_type": "code",
   "execution_count": 9,
   "id": "5a07d5a7",
   "metadata": {},
   "outputs": [
    {
     "name": "stdout",
     "output_type": "stream",
     "text": [
      "Requirement already satisfied: ipython-sql in c:\\new folder\\new folder\\lib\\site-packages (0.5.0)\n",
      "Requirement already satisfied: prettytable in c:\\new folder\\new folder\\lib\\site-packages (from ipython-sql) (3.9.0)\n",
      "Requirement already satisfied: ipython in c:\\new folder\\new folder\\lib\\site-packages (from ipython-sql) (8.15.0)\n",
      "Requirement already satisfied: sqlalchemy>=2.0 in c:\\new folder\\new folder\\lib\\site-packages (from ipython-sql) (2.0.30)\n",
      "Requirement already satisfied: sqlparse in c:\\new folder\\new folder\\lib\\site-packages (from ipython-sql) (0.4.4)\n",
      "Requirement already satisfied: six in c:\\new folder\\new folder\\lib\\site-packages (from ipython-sql) (1.16.0)\n",
      "Requirement already satisfied: ipython-genutils in c:\\new folder\\new folder\\lib\\site-packages (from ipython-sql) (0.2.0)\n",
      "Requirement already satisfied: typing-extensions>=4.6.0 in c:\\new folder\\new folder\\lib\\site-packages (from sqlalchemy>=2.0->ipython-sql) (4.7.1)\n",
      "Requirement already satisfied: greenlet!=0.4.17 in c:\\new folder\\new folder\\lib\\site-packages (from sqlalchemy>=2.0->ipython-sql) (2.0.1)\n",
      "Requirement already satisfied: backcall in c:\\new folder\\new folder\\lib\\site-packages (from ipython->ipython-sql) (0.2.0)\n",
      "Requirement already satisfied: decorator in c:\\new folder\\new folder\\lib\\site-packages (from ipython->ipython-sql) (5.1.1)\n",
      "Requirement already satisfied: jedi>=0.16 in c:\\new folder\\new folder\\lib\\site-packages (from ipython->ipython-sql) (0.18.1)\n",
      "Requirement already satisfied: matplotlib-inline in c:\\new folder\\new folder\\lib\\site-packages (from ipython->ipython-sql) (0.1.6)\n",
      "Requirement already satisfied: pickleshare in c:\\new folder\\new folder\\lib\\site-packages (from ipython->ipython-sql) (0.7.5)\n",
      "Requirement already satisfied: prompt-toolkit!=3.0.37,<3.1.0,>=3.0.30 in c:\\new folder\\new folder\\lib\\site-packages (from ipython->ipython-sql) (3.0.36)\n",
      "Requirement already satisfied: pygments>=2.4.0 in c:\\new folder\\new folder\\lib\\site-packages (from ipython->ipython-sql) (2.15.1)\n",
      "Requirement already satisfied: stack-data in c:\\new folder\\new folder\\lib\\site-packages (from ipython->ipython-sql) (0.2.0)\n",
      "Requirement already satisfied: traitlets>=5 in c:\\new folder\\new folder\\lib\\site-packages (from ipython->ipython-sql) (5.7.1)\n",
      "Requirement already satisfied: colorama in c:\\new folder\\new folder\\lib\\site-packages (from ipython->ipython-sql) (0.4.6)\n",
      "Requirement already satisfied: wcwidth in c:\\new folder\\new folder\\lib\\site-packages (from prettytable->ipython-sql) (0.2.5)\n",
      "Requirement already satisfied: parso<0.9.0,>=0.8.0 in c:\\new folder\\new folder\\lib\\site-packages (from jedi>=0.16->ipython->ipython-sql) (0.8.3)\n",
      "Requirement already satisfied: executing in c:\\new folder\\new folder\\lib\\site-packages (from stack-data->ipython->ipython-sql) (0.8.3)\n",
      "Requirement already satisfied: asttokens in c:\\new folder\\new folder\\lib\\site-packages (from stack-data->ipython->ipython-sql) (2.0.5)\n",
      "Requirement already satisfied: pure-eval in c:\\new folder\\new folder\\lib\\site-packages (from stack-data->ipython->ipython-sql) (0.2.2)\n"
     ]
    }
   ],
   "source": [
    "!pip install ipython-sql"
   ]
  },
  {
   "cell_type": "code",
   "execution_count": 13,
   "id": "32787ae7",
   "metadata": {},
   "outputs": [],
   "source": [
    "conn = sqlite3.connect('creditscoringmodel')"
   ]
  },
  {
   "cell_type": "code",
   "execution_count": 17,
   "id": "1ad83e1c",
   "metadata": {},
   "outputs": [],
   "source": [
    "%load_ext sql"
   ]
  },
  {
   "cell_type": "code",
   "execution_count": 18,
   "id": "79add068",
   "metadata": {},
   "outputs": [],
   "source": [
    "%sql sqlite:///creditscoringmodel"
   ]
  },
  {
   "cell_type": "code",
   "execution_count": 19,
   "id": "dd1f7748",
   "metadata": {},
   "outputs": [
    {
     "name": "stdout",
     "output_type": "stream",
     "text": [
      " * sqlite:///creditscoringmodel\n",
      "Done.\n"
     ]
    },
    {
     "data": {
      "text/plain": [
       "[]"
      ]
     },
     "execution_count": 19,
     "metadata": {},
     "output_type": "execute_result"
    }
   ],
   "source": [
    "%%sql\n",
    "CREATE TABLE CreditScoringModel (\n",
    "    Factor VARCHAR(50),\n",
    "    Weight_Percentage DECIMAL(5, 2),\n",
    "    Average_Score_Impact DECIMAL(5, 2),\n",
    "    Standard_Deviation DECIMAL(5, 2),\n",
    "    Median_Impact DECIMAL(5, 2),\n",
    "    Max_Impact DECIMAL(5, 2),\n",
    "    Min_Impact DECIMAL(5, 2)\n",
    ");"
   ]
  },
  {
   "cell_type": "code",
   "execution_count": 20,
   "id": "dd9ad69d",
   "metadata": {},
   "outputs": [
    {
     "name": "stdout",
     "output_type": "stream",
     "text": [
      " * sqlite:///creditscoringmodel\n",
      "5 rows affected.\n"
     ]
    },
    {
     "data": {
      "text/plain": [
       "[]"
      ]
     },
     "execution_count": 20,
     "metadata": {},
     "output_type": "execute_result"
    }
   ],
   "source": [
    "%%sql\n",
    "INSERT INTO CreditScoringModel (Factor, Weight_Percentage, Average_Score_Impact, Standard_Deviation, Median_Impact, Max_Impact, Min_Impact)\n",
    "VALUES\n",
    "('Payment History', 35.00, 297.00, 50.00, 300.00, 350.00, 200.00),\n",
    "('Credit Utilization', 30.00, 255.00, 40.00, 250.00, 300.00, 150.00),\n",
    "('Length of Credit History', 15.00, 127.50, 20.00, 125.00, 150.00, 80.00),\n",
    "('Types of Credit Used', 10.00, 85.00, 10.00, 90.00, 100.00, 50.00),\n",
    "('Recent Credit Inquiries', 10.00, 85.00, 15.00, 80.00, 100.00, 50.00);"
   ]
  },
  {
   "cell_type": "code",
   "execution_count": 21,
   "id": "27fde772",
   "metadata": {
    "scrolled": true
   },
   "outputs": [
    {
     "name": "stdout",
     "output_type": "stream",
     "text": [
      " * sqlite:///creditscoringmodel\n",
      "Done.\n"
     ]
    },
    {
     "data": {
      "text/html": [
       "<table>\n",
       "    <thead>\n",
       "        <tr>\n",
       "            <th>Factor</th>\n",
       "            <th>Weight_Percentage</th>\n",
       "            <th>Average_Score_Impact</th>\n",
       "            <th>Standard_Deviation</th>\n",
       "            <th>Median_Impact</th>\n",
       "            <th>Max_Impact</th>\n",
       "            <th>Min_Impact</th>\n",
       "        </tr>\n",
       "    </thead>\n",
       "    <tbody>\n",
       "        <tr>\n",
       "            <td>Payment History</td>\n",
       "            <td>35</td>\n",
       "            <td>297</td>\n",
       "            <td>50</td>\n",
       "            <td>300</td>\n",
       "            <td>350</td>\n",
       "            <td>200</td>\n",
       "        </tr>\n",
       "        <tr>\n",
       "            <td>Credit Utilization</td>\n",
       "            <td>30</td>\n",
       "            <td>255</td>\n",
       "            <td>40</td>\n",
       "            <td>250</td>\n",
       "            <td>300</td>\n",
       "            <td>150</td>\n",
       "        </tr>\n",
       "        <tr>\n",
       "            <td>Length of Credit History</td>\n",
       "            <td>15</td>\n",
       "            <td>127.5</td>\n",
       "            <td>20</td>\n",
       "            <td>125</td>\n",
       "            <td>150</td>\n",
       "            <td>80</td>\n",
       "        </tr>\n",
       "        <tr>\n",
       "            <td>Types of Credit Used</td>\n",
       "            <td>10</td>\n",
       "            <td>85</td>\n",
       "            <td>10</td>\n",
       "            <td>90</td>\n",
       "            <td>100</td>\n",
       "            <td>50</td>\n",
       "        </tr>\n",
       "        <tr>\n",
       "            <td>Recent Credit Inquiries</td>\n",
       "            <td>10</td>\n",
       "            <td>85</td>\n",
       "            <td>15</td>\n",
       "            <td>80</td>\n",
       "            <td>100</td>\n",
       "            <td>50</td>\n",
       "        </tr>\n",
       "    </tbody>\n",
       "</table>"
      ],
      "text/plain": [
       "[('Payment History', 35, 297, 50, 300, 350, 200),\n",
       " ('Credit Utilization', 30, 255, 40, 250, 300, 150),\n",
       " ('Length of Credit History', 15, 127.5, 20, 125, 150, 80),\n",
       " ('Types of Credit Used', 10, 85, 10, 90, 100, 50),\n",
       " ('Recent Credit Inquiries', 10, 85, 15, 80, 100, 50)]"
      ]
     },
     "execution_count": 21,
     "metadata": {},
     "output_type": "execute_result"
    }
   ],
   "source": [
    "%%sql\n",
    "SELECT * FROM CreditScoringModel;"
   ]
  },
  {
   "cell_type": "markdown",
   "id": "46489bd1",
   "metadata": {},
   "source": [
    "### Provides a comprehensive view of credit scoring factors and their impacts.\n"
   ]
  },
  {
   "cell_type": "markdown",
   "id": "0934f50f",
   "metadata": {},
   "source": [
    "## Factor with the Highest Weight"
   ]
  },
  {
   "cell_type": "code",
   "execution_count": 22,
   "id": "8eada48b",
   "metadata": {},
   "outputs": [
    {
     "name": "stdout",
     "output_type": "stream",
     "text": [
      " * sqlite:///creditscoringmodel\n",
      "Done.\n"
     ]
    },
    {
     "data": {
      "text/html": [
       "<table>\n",
       "    <thead>\n",
       "        <tr>\n",
       "            <th>Factor</th>\n",
       "        </tr>\n",
       "    </thead>\n",
       "    <tbody>\n",
       "        <tr>\n",
       "            <td>Payment History</td>\n",
       "        </tr>\n",
       "    </tbody>\n",
       "</table>"
      ],
      "text/plain": [
       "[('Payment History',)]"
      ]
     },
     "execution_count": 22,
     "metadata": {},
     "output_type": "execute_result"
    }
   ],
   "source": [
    "%%sql\n",
    "SELECT Factor\n",
    "FROM CreditScoringModel\n",
    "ORDER BY Weight_Percentage DESC\n",
    "LIMIT 1;"
   ]
  },
  {
   "cell_type": "markdown",
   "id": "e6f04acb",
   "metadata": {},
   "source": [
    "### \"Payment History\" is the most influential factor with a 35% weight, emphasizing its critical role in credit scoring."
   ]
  },
  {
   "cell_type": "markdown",
   "id": "86cd7a92",
   "metadata": {},
   "source": [
    "## Average Standard Deviation"
   ]
  },
  {
   "cell_type": "code",
   "execution_count": 23,
   "id": "d254d136",
   "metadata": {},
   "outputs": [
    {
     "name": "stdout",
     "output_type": "stream",
     "text": [
      " * sqlite:///creditscoringmodel\n",
      "Done.\n"
     ]
    },
    {
     "data": {
      "text/html": [
       "<table>\n",
       "    <thead>\n",
       "        <tr>\n",
       "            <th>Average_Standard_Deviation</th>\n",
       "        </tr>\n",
       "    </thead>\n",
       "    <tbody>\n",
       "        <tr>\n",
       "            <td>27.0</td>\n",
       "        </tr>\n",
       "    </tbody>\n",
       "</table>"
      ],
      "text/plain": [
       "[(27.0,)]"
      ]
     },
     "execution_count": 23,
     "metadata": {},
     "output_type": "execute_result"
    }
   ],
   "source": [
    "%%sql\n",
    "SELECT AVG(Standard_Deviation) AS Average_Standard_Deviation\n",
    "FROM CreditScoringModel;"
   ]
  },
  {
   "cell_type": "markdown",
   "id": "4eaa4385",
   "metadata": {},
   "source": [
    "### Calculates variability in score impacts, indicating how consistent factors affect credit scores."
   ]
  },
  {
   "cell_type": "markdown",
   "id": "f99382cf",
   "metadata": {},
   "source": [
    "## Factors with an Average Score Impact Above 200 Points"
   ]
  },
  {
   "cell_type": "code",
   "execution_count": 25,
   "id": "e4af901a",
   "metadata": {},
   "outputs": [
    {
     "name": "stdout",
     "output_type": "stream",
     "text": [
      " * sqlite:///creditscoringmodel\n",
      "Done.\n"
     ]
    },
    {
     "data": {
      "text/html": [
       "<table>\n",
       "    <thead>\n",
       "        <tr>\n",
       "            <th>Factor</th>\n",
       "        </tr>\n",
       "    </thead>\n",
       "    <tbody>\n",
       "        <tr>\n",
       "            <td>Payment History</td>\n",
       "        </tr>\n",
       "        <tr>\n",
       "            <td>Credit Utilization</td>\n",
       "        </tr>\n",
       "    </tbody>\n",
       "</table>"
      ],
      "text/plain": [
       "[('Payment History',), ('Credit Utilization',)]"
      ]
     },
     "execution_count": 25,
     "metadata": {},
     "output_type": "execute_result"
    }
   ],
   "source": [
    "%%sql\n",
    "SELECT Factor\n",
    "FROM CreditScoringModel\n",
    "WHERE Average_Score_Impact > 200;"
   ]
  },
  {
   "cell_type": "markdown",
   "id": "9519b519",
   "metadata": {},
   "source": [
    "### Highlights \"Payment History\" and \"Credit Utilization\" as significant factors with impacts above 200 points, guiding focus areas for score improvement."
   ]
  },
  {
   "cell_type": "markdown",
   "id": "989d829a",
   "metadata": {},
   "source": [
    "## Range of Impacts for Each Factor"
   ]
  },
  {
   "cell_type": "code",
   "execution_count": 26,
   "id": "a9abffff",
   "metadata": {},
   "outputs": [
    {
     "name": "stdout",
     "output_type": "stream",
     "text": [
      " * sqlite:///creditscoringmodel\n",
      "Done.\n"
     ]
    },
    {
     "data": {
      "text/html": [
       "<table>\n",
       "    <thead>\n",
       "        <tr>\n",
       "            <th>Factor</th>\n",
       "            <th>Impact_Range</th>\n",
       "        </tr>\n",
       "    </thead>\n",
       "    <tbody>\n",
       "        <tr>\n",
       "            <td>Payment History</td>\n",
       "            <td>150</td>\n",
       "        </tr>\n",
       "        <tr>\n",
       "            <td>Credit Utilization</td>\n",
       "            <td>150</td>\n",
       "        </tr>\n",
       "        <tr>\n",
       "            <td>Length of Credit History</td>\n",
       "            <td>70</td>\n",
       "        </tr>\n",
       "        <tr>\n",
       "            <td>Types of Credit Used</td>\n",
       "            <td>50</td>\n",
       "        </tr>\n",
       "        <tr>\n",
       "            <td>Recent Credit Inquiries</td>\n",
       "            <td>50</td>\n",
       "        </tr>\n",
       "    </tbody>\n",
       "</table>"
      ],
      "text/plain": [
       "[('Payment History', 150),\n",
       " ('Credit Utilization', 150),\n",
       " ('Length of Credit History', 70),\n",
       " ('Types of Credit Used', 50),\n",
       " ('Recent Credit Inquiries', 50)]"
      ]
     },
     "execution_count": 26,
     "metadata": {},
     "output_type": "execute_result"
    }
   ],
   "source": [
    "%%sql\n",
    "SELECT Factor, (Max_Impact - Min_Impact) AS Impact_Range\n",
    "FROM CreditScoringModel;"
   ]
  },
  {
   "cell_type": "markdown",
   "id": "5f10369e",
   "metadata": {},
   "source": [
    "### Shows variability in factor impacts; \"Payment History\" has the widest range (150 points), suggesting it can strongly influence score fluctuations."
   ]
  },
  {
   "cell_type": "markdown",
   "id": "b8d8ca51",
   "metadata": {},
   "source": [
    "# Conclusion"
   ]
  },
  {
   "cell_type": "markdown",
   "id": "5545a955",
   "metadata": {},
   "source": [
    "## These analyses provide insights into the structure and influence of the credit scoring model used by US banks. Understanding these factors helps in strategizing to improve creditworthiness and manage risk effectively."
   ]
  },
  {
   "cell_type": "code",
   "execution_count": null,
   "id": "d660d448",
   "metadata": {},
   "outputs": [],
   "source": []
  }
 ],
 "metadata": {
  "kernelspec": {
   "display_name": "Python 3 (ipykernel)",
   "language": "python",
   "name": "python3"
  },
  "language_info": {
   "codemirror_mode": {
    "name": "ipython",
    "version": 3
   },
   "file_extension": ".py",
   "mimetype": "text/x-python",
   "name": "python",
   "nbconvert_exporter": "python",
   "pygments_lexer": "ipython3",
   "version": "3.11.5"
  }
 },
 "nbformat": 4,
 "nbformat_minor": 5
}
