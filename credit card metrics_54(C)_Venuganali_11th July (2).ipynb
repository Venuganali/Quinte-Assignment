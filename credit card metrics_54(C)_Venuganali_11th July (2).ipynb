{
 "cells": [
  {
   "cell_type": "code",
   "execution_count": 1,
   "id": "e65d02db",
   "metadata": {},
   "outputs": [
    {
     "name": "stdout",
     "output_type": "stream",
     "text": [
      "Requirement already satisfied: pandasql in c:\\new folder\\new folder\\lib\\site-packages (0.7.3)\n",
      "Requirement already satisfied: numpy in c:\\new folder\\new folder\\lib\\site-packages (from pandasql) (1.24.3)\n",
      "Requirement already satisfied: pandas in c:\\new folder\\new folder\\lib\\site-packages (from pandasql) (2.2.2)\n",
      "Requirement already satisfied: sqlalchemy in c:\\new folder\\new folder\\lib\\site-packages (from pandasql) (2.0.30)\n",
      "Requirement already satisfied: python-dateutil>=2.8.2 in c:\\new folder\\new folder\\lib\\site-packages (from pandas->pandasql) (2.8.2)\n",
      "Requirement already satisfied: pytz>=2020.1 in c:\\new folder\\new folder\\lib\\site-packages (from pandas->pandasql) (2023.3.post1)\n",
      "Requirement already satisfied: tzdata>=2022.7 in c:\\new folder\\new folder\\lib\\site-packages (from pandas->pandasql) (2023.3)\n",
      "Requirement already satisfied: typing-extensions>=4.6.0 in c:\\new folder\\new folder\\lib\\site-packages (from sqlalchemy->pandasql) (4.7.1)\n",
      "Requirement already satisfied: greenlet!=0.4.17 in c:\\new folder\\new folder\\lib\\site-packages (from sqlalchemy->pandasql) (2.0.1)\n",
      "Requirement already satisfied: six>=1.5 in c:\\new folder\\new folder\\lib\\site-packages (from python-dateutil>=2.8.2->pandas->pandasql) (1.16.0)\n"
     ]
    }
   ],
   "source": [
    "!pip install -U pandasql"
   ]
  },
  {
   "cell_type": "code",
   "execution_count": 2,
   "id": "fefe622b",
   "metadata": {},
   "outputs": [
    {
     "name": "stderr",
     "output_type": "stream",
     "text": [
      "C:\\New folder\\New folder\\Lib\\site-packages\\pandas\\core\\arrays\\masked.py:60: UserWarning: Pandas requires version '1.3.6' or newer of 'bottleneck' (version '1.3.5' currently installed).\n",
      "  from pandas.core import (\n"
     ]
    }
   ],
   "source": [
    "import pandas as pd"
   ]
  },
  {
   "cell_type": "code",
   "execution_count": 3,
   "id": "eec76cff",
   "metadata": {},
   "outputs": [],
   "source": [
    "import sqlite3"
   ]
  },
  {
   "cell_type": "code",
   "execution_count": 4,
   "id": "b4ad5df4",
   "metadata": {},
   "outputs": [
    {
     "name": "stdout",
     "output_type": "stream",
     "text": [
      "Requirement already satisfied: ipython-sql in c:\\new folder\\new folder\\lib\\site-packages (0.5.0)\n",
      "Requirement already satisfied: prettytable in c:\\new folder\\new folder\\lib\\site-packages (from ipython-sql) (3.9.0)\n",
      "Requirement already satisfied: ipython in c:\\new folder\\new folder\\lib\\site-packages (from ipython-sql) (8.15.0)\n",
      "Requirement already satisfied: sqlalchemy>=2.0 in c:\\new folder\\new folder\\lib\\site-packages (from ipython-sql) (2.0.30)\n",
      "Requirement already satisfied: sqlparse in c:\\new folder\\new folder\\lib\\site-packages (from ipython-sql) (0.4.4)\n",
      "Requirement already satisfied: six in c:\\new folder\\new folder\\lib\\site-packages (from ipython-sql) (1.16.0)\n",
      "Requirement already satisfied: ipython-genutils in c:\\new folder\\new folder\\lib\\site-packages (from ipython-sql) (0.2.0)\n",
      "Requirement already satisfied: typing-extensions>=4.6.0 in c:\\new folder\\new folder\\lib\\site-packages (from sqlalchemy>=2.0->ipython-sql) (4.7.1)\n",
      "Requirement already satisfied: greenlet!=0.4.17 in c:\\new folder\\new folder\\lib\\site-packages (from sqlalchemy>=2.0->ipython-sql) (2.0.1)\n",
      "Requirement already satisfied: backcall in c:\\new folder\\new folder\\lib\\site-packages (from ipython->ipython-sql) (0.2.0)\n",
      "Requirement already satisfied: decorator in c:\\new folder\\new folder\\lib\\site-packages (from ipython->ipython-sql) (5.1.1)\n",
      "Requirement already satisfied: jedi>=0.16 in c:\\new folder\\new folder\\lib\\site-packages (from ipython->ipython-sql) (0.18.1)\n",
      "Requirement already satisfied: matplotlib-inline in c:\\new folder\\new folder\\lib\\site-packages (from ipython->ipython-sql) (0.1.6)\n",
      "Requirement already satisfied: pickleshare in c:\\new folder\\new folder\\lib\\site-packages (from ipython->ipython-sql) (0.7.5)\n",
      "Requirement already satisfied: prompt-toolkit!=3.0.37,<3.1.0,>=3.0.30 in c:\\new folder\\new folder\\lib\\site-packages (from ipython->ipython-sql) (3.0.36)\n",
      "Requirement already satisfied: pygments>=2.4.0 in c:\\new folder\\new folder\\lib\\site-packages (from ipython->ipython-sql) (2.15.1)\n",
      "Requirement already satisfied: stack-data in c:\\new folder\\new folder\\lib\\site-packages (from ipython->ipython-sql) (0.2.0)\n",
      "Requirement already satisfied: traitlets>=5 in c:\\new folder\\new folder\\lib\\site-packages (from ipython->ipython-sql) (5.7.1)\n",
      "Requirement already satisfied: colorama in c:\\new folder\\new folder\\lib\\site-packages (from ipython->ipython-sql) (0.4.6)\n",
      "Requirement already satisfied: wcwidth in c:\\new folder\\new folder\\lib\\site-packages (from prettytable->ipython-sql) (0.2.5)\n",
      "Requirement already satisfied: parso<0.9.0,>=0.8.0 in c:\\new folder\\new folder\\lib\\site-packages (from jedi>=0.16->ipython->ipython-sql) (0.8.3)\n",
      "Requirement already satisfied: executing in c:\\new folder\\new folder\\lib\\site-packages (from stack-data->ipython->ipython-sql) (0.8.3)\n",
      "Requirement already satisfied: asttokens in c:\\new folder\\new folder\\lib\\site-packages (from stack-data->ipython->ipython-sql) (2.0.5)\n",
      "Requirement already satisfied: pure-eval in c:\\new folder\\new folder\\lib\\site-packages (from stack-data->ipython->ipython-sql) (0.2.2)\n"
     ]
    }
   ],
   "source": [
    "!pip install ipython-sql"
   ]
  },
  {
   "cell_type": "code",
   "execution_count": 5,
   "id": "e6a6b28a",
   "metadata": {},
   "outputs": [],
   "source": [
    "conn = sqlite3.connect('creditcardmetrics')"
   ]
  },
  {
   "cell_type": "code",
   "execution_count": 6,
   "id": "6430f5c9",
   "metadata": {},
   "outputs": [],
   "source": [
    "%load_ext sql"
   ]
  },
  {
   "cell_type": "code",
   "execution_count": 7,
   "id": "6ca11c03",
   "metadata": {},
   "outputs": [],
   "source": [
    "%sql sqlite:///creditcardmetrics"
   ]
  },
  {
   "cell_type": "code",
   "execution_count": 8,
   "id": "a36d3822",
   "metadata": {},
   "outputs": [
    {
     "name": "stdout",
     "output_type": "stream",
     "text": [
      " * sqlite:///creditcardmetrics\n",
      "Done.\n",
      "3 rows affected.\n"
     ]
    },
    {
     "data": {
      "text/plain": [
       "[]"
      ]
     },
     "execution_count": 8,
     "metadata": {},
     "output_type": "execute_result"
    }
   ],
   "source": [
    "%%sql\n",
    "CREATE TABLE credit_card_metrics (\n",
    "    year INT,\n",
    "    total_revenue DECIMAL(12,2),\n",
    "    net_profit DECIMAL(12,2),\n",
    "    active_customers INT,\n",
    "    avg_order_value DECIMAL(8,2),\n",
    "    customer_acq_cost DECIMAL(8,2),\n",
    "    gross_margin DECIMAL(5,2),\n",
    "    churn_rate DECIMAL(5,2)\n",
    ");\n",
    "\n",
    "INSERT INTO credit_card_metrics (year, total_revenue, net_profit, active_customers, avg_order_value, customer_acq_cost, gross_margin, churn_rate)\n",
    "VALUES\n",
    "    (2021, 45321456.00, 8765432.00, 1234567, 75.21, 25.67, 42.30, 8.20),\n",
    "    (2022, 51234789.00, 9876543.00, 1345678, 78.34, 27.89, 44.10, 7.50),\n",
    "    (2023, 57890123.00, 11234567.00, 1456789, 82.45, 29.12, 46.20, 6.80);"
   ]
  },
  {
   "cell_type": "code",
   "execution_count": 9,
   "id": "af830e70",
   "metadata": {},
   "outputs": [
    {
     "name": "stdout",
     "output_type": "stream",
     "text": [
      " * sqlite:///creditcardmetrics\n",
      "Done.\n"
     ]
    },
    {
     "data": {
      "text/html": [
       "<table>\n",
       "    <thead>\n",
       "        <tr>\n",
       "            <th>year</th>\n",
       "            <th>total_revenue</th>\n",
       "            <th>net_profit</th>\n",
       "            <th>active_customers</th>\n",
       "            <th>avg_order_value</th>\n",
       "            <th>customer_acq_cost</th>\n",
       "            <th>gross_margin</th>\n",
       "            <th>churn_rate</th>\n",
       "        </tr>\n",
       "    </thead>\n",
       "    <tbody>\n",
       "        <tr>\n",
       "            <td>2021</td>\n",
       "            <td>45321456</td>\n",
       "            <td>8765432</td>\n",
       "            <td>1234567</td>\n",
       "            <td>75.21</td>\n",
       "            <td>25.67</td>\n",
       "            <td>42.3</td>\n",
       "            <td>8.2</td>\n",
       "        </tr>\n",
       "        <tr>\n",
       "            <td>2022</td>\n",
       "            <td>51234789</td>\n",
       "            <td>9876543</td>\n",
       "            <td>1345678</td>\n",
       "            <td>78.34</td>\n",
       "            <td>27.89</td>\n",
       "            <td>44.1</td>\n",
       "            <td>7.5</td>\n",
       "        </tr>\n",
       "        <tr>\n",
       "            <td>2023</td>\n",
       "            <td>57890123</td>\n",
       "            <td>11234567</td>\n",
       "            <td>1456789</td>\n",
       "            <td>82.45</td>\n",
       "            <td>29.12</td>\n",
       "            <td>46.2</td>\n",
       "            <td>6.8</td>\n",
       "        </tr>\n",
       "    </tbody>\n",
       "</table>"
      ],
      "text/plain": [
       "[(2021, 45321456, 8765432, 1234567, 75.21, 25.67, 42.3, 8.2),\n",
       " (2022, 51234789, 9876543, 1345678, 78.34, 27.89, 44.1, 7.5),\n",
       " (2023, 57890123, 11234567, 1456789, 82.45, 29.12, 46.2, 6.8)]"
      ]
     },
     "execution_count": 9,
     "metadata": {},
     "output_type": "execute_result"
    }
   ],
   "source": [
    "%%sql\n",
    "select * from credit_card_metrics"
   ]
  },
  {
   "cell_type": "code",
   "execution_count": 10,
   "id": "19c64054",
   "metadata": {},
   "outputs": [
    {
     "name": "stdout",
     "output_type": "stream",
     "text": [
      " * sqlite:///creditcardmetrics\n",
      "Done.\n"
     ]
    },
    {
     "data": {
      "text/html": [
       "<table>\n",
       "    <thead>\n",
       "        <tr>\n",
       "            <th>year</th>\n",
       "            <th>total_revenue</th>\n",
       "            <th>net_profit</th>\n",
       "        </tr>\n",
       "    </thead>\n",
       "    <tbody>\n",
       "        <tr>\n",
       "            <td>2021</td>\n",
       "            <td>45321456</td>\n",
       "            <td>8765432</td>\n",
       "        </tr>\n",
       "        <tr>\n",
       "            <td>2022</td>\n",
       "            <td>51234789</td>\n",
       "            <td>9876543</td>\n",
       "        </tr>\n",
       "        <tr>\n",
       "            <td>2023</td>\n",
       "            <td>57890123</td>\n",
       "            <td>11234567</td>\n",
       "        </tr>\n",
       "    </tbody>\n",
       "</table>"
      ],
      "text/plain": [
       "[(2021, 45321456, 8765432),\n",
       " (2022, 51234789, 9876543),\n",
       " (2023, 57890123, 11234567)]"
      ]
     },
     "execution_count": 10,
     "metadata": {},
     "output_type": "execute_result"
    }
   ],
   "source": [
    "%%sql\n",
    "SELECT \n",
    "    year, \n",
    "    total_revenue, \n",
    "    net_profit\n",
    "FROM credit_card_metrics\n",
    "ORDER BY year;"
   ]
  },
  {
   "cell_type": "code",
   "execution_count": 11,
   "id": "92e519d2",
   "metadata": {},
   "outputs": [
    {
     "name": "stdout",
     "output_type": "stream",
     "text": [
      " * sqlite:///creditcardmetrics\n",
      "Done.\n"
     ]
    },
    {
     "data": {
      "text/html": [
       "<table>\n",
       "    <thead>\n",
       "        <tr>\n",
       "            <th>year</th>\n",
       "            <th>avg_order_value</th>\n",
       "            <th>customer_acq_cost</th>\n",
       "        </tr>\n",
       "    </thead>\n",
       "    <tbody>\n",
       "        <tr>\n",
       "            <td>2021</td>\n",
       "            <td>75.21</td>\n",
       "            <td>25.67</td>\n",
       "        </tr>\n",
       "        <tr>\n",
       "            <td>2022</td>\n",
       "            <td>78.34</td>\n",
       "            <td>27.89</td>\n",
       "        </tr>\n",
       "        <tr>\n",
       "            <td>2023</td>\n",
       "            <td>82.45</td>\n",
       "            <td>29.12</td>\n",
       "        </tr>\n",
       "    </tbody>\n",
       "</table>"
      ],
      "text/plain": [
       "[(2021, 75.21, 25.67), (2022, 78.34, 27.89), (2023, 82.45, 29.12)]"
      ]
     },
     "execution_count": 11,
     "metadata": {},
     "output_type": "execute_result"
    }
   ],
   "source": [
    "%%sql\n",
    "SELECT \n",
    "    year,\n",
    "    avg_order_value,\n",
    "    customer_acq_cost\n",
    "FROM credit_card_metrics\n",
    "ORDER BY year;"
   ]
  },
  {
   "cell_type": "code",
   "execution_count": 13,
   "id": "460a5379",
   "metadata": {},
   "outputs": [
    {
     "name": "stdout",
     "output_type": "stream",
     "text": [
      " * sqlite:///creditcardmetrics\n",
      "Done.\n"
     ]
    },
    {
     "data": {
      "text/html": [
       "<table>\n",
       "    <thead>\n",
       "        <tr>\n",
       "            <th>year</th>\n",
       "            <th>gross_margin</th>\n",
       "            <th>churn_rate</th>\n",
       "        </tr>\n",
       "    </thead>\n",
       "    <tbody>\n",
       "        <tr>\n",
       "            <td>2021</td>\n",
       "            <td>42.3</td>\n",
       "            <td>8.2</td>\n",
       "        </tr>\n",
       "        <tr>\n",
       "            <td>2022</td>\n",
       "            <td>44.1</td>\n",
       "            <td>7.5</td>\n",
       "        </tr>\n",
       "        <tr>\n",
       "            <td>2023</td>\n",
       "            <td>46.2</td>\n",
       "            <td>6.8</td>\n",
       "        </tr>\n",
       "    </tbody>\n",
       "</table>"
      ],
      "text/plain": [
       "[(2021, 42.3, 8.2), (2022, 44.1, 7.5), (2023, 46.2, 6.8)]"
      ]
     },
     "execution_count": 13,
     "metadata": {},
     "output_type": "execute_result"
    }
   ],
   "source": [
    "%%sql\n",
    "SELECT\n",
    "    year,\n",
    "    gross_margin,\n",
    "    churn_rate\n",
    "FROM credit_card_metrics\n",
    "ORDER BY year;"
   ]
  },
  {
   "cell_type": "markdown",
   "id": "1413152c",
   "metadata": {},
   "source": [
    "### Analysis:\n",
    "-- 1. Revenue and Profit Growth:\n",
    "--    The data shows a steady increase in total revenue and net profit over the 3-year period, indicating a growing and successful business.\n",
    "\n",
    "-- 2. Customer Acquisition and Retention:\n",
    "--    The increase in active customers, along with the decreasing churn rate, suggests that the business is effectively acquiring and retaining customers.\n",
    "\n",
    "-- 3. Profitability:\n",
    "--    The increasing gross margin indicates that the business is becoming more efficient and profitable over time.\n",
    "\n",
    "-- 4. Customer Lifetime Value:\n",
    "--    The combination of increasing average order value and decreasing customer acquisition cost suggests that the business is improving its customer lifetime value."
   ]
  },
  {
   "cell_type": "code",
   "execution_count": null,
   "id": "9a8bf202",
   "metadata": {},
   "outputs": [],
   "source": []
  }
 ],
 "metadata": {
  "kernelspec": {
   "display_name": "Python 3 (ipykernel)",
   "language": "python",
   "name": "python3"
  },
  "language_info": {
   "codemirror_mode": {
    "name": "ipython",
    "version": 3
   },
   "file_extension": ".py",
   "mimetype": "text/x-python",
   "name": "python",
   "nbconvert_exporter": "python",
   "pygments_lexer": "ipython3",
   "version": "3.11.5"
  }
 },
 "nbformat": 4,
 "nbformat_minor": 5
}
